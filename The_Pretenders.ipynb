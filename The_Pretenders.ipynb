{
  "cells": [
    {
      "cell_type": "code",
      "execution_count": 2,
      "metadata": {
        "id": "hjpQQcIhMSzD",
        "colab": {
          "base_uri": "https://localhost:8080/"
        },
        "outputId": "ac07ad4a-4018-4949-c0c5-34b4603a157c"
      },
      "outputs": [
        {
          "output_type": "stream",
          "name": "stdout",
          "text": [
            "Requirement already satisfied: wandb in /usr/local/lib/python3.11/dist-packages (0.19.5)\n",
            "Requirement already satisfied: click!=8.0.0,>=7.1 in /usr/local/lib/python3.11/dist-packages (from wandb) (8.1.8)\n",
            "Requirement already satisfied: docker-pycreds>=0.4.0 in /usr/local/lib/python3.11/dist-packages (from wandb) (0.4.0)\n",
            "Requirement already satisfied: gitpython!=3.1.29,>=1.0.0 in /usr/local/lib/python3.11/dist-packages (from wandb) (3.1.44)\n",
            "Requirement already satisfied: platformdirs in /usr/local/lib/python3.11/dist-packages (from wandb) (4.3.6)\n",
            "Requirement already satisfied: protobuf!=4.21.0,!=5.28.0,<6,>=3.19.0 in /usr/local/lib/python3.11/dist-packages (from wandb) (4.25.6)\n",
            "Requirement already satisfied: psutil>=5.0.0 in /usr/local/lib/python3.11/dist-packages (from wandb) (5.9.5)\n",
            "Requirement already satisfied: pydantic<3,>=2.6 in /usr/local/lib/python3.11/dist-packages (from wandb) (2.10.6)\n",
            "Requirement already satisfied: pyyaml in /usr/local/lib/python3.11/dist-packages (from wandb) (6.0.2)\n",
            "Requirement already satisfied: requests<3,>=2.0.0 in /usr/local/lib/python3.11/dist-packages (from wandb) (2.32.3)\n",
            "Requirement already satisfied: sentry-sdk>=2.0.0 in /usr/local/lib/python3.11/dist-packages (from wandb) (2.20.0)\n",
            "Requirement already satisfied: setproctitle in /usr/local/lib/python3.11/dist-packages (from wandb) (1.3.4)\n",
            "Requirement already satisfied: setuptools in /usr/local/lib/python3.11/dist-packages (from wandb) (75.1.0)\n",
            "Requirement already satisfied: typing-extensions<5,>=4.4 in /usr/local/lib/python3.11/dist-packages (from wandb) (4.12.2)\n",
            "Requirement already satisfied: six>=1.4.0 in /usr/local/lib/python3.11/dist-packages (from docker-pycreds>=0.4.0->wandb) (1.17.0)\n",
            "Requirement already satisfied: gitdb<5,>=4.0.1 in /usr/local/lib/python3.11/dist-packages (from gitpython!=3.1.29,>=1.0.0->wandb) (4.0.12)\n",
            "Requirement already satisfied: annotated-types>=0.6.0 in /usr/local/lib/python3.11/dist-packages (from pydantic<3,>=2.6->wandb) (0.7.0)\n",
            "Requirement already satisfied: pydantic-core==2.27.2 in /usr/local/lib/python3.11/dist-packages (from pydantic<3,>=2.6->wandb) (2.27.2)\n",
            "Requirement already satisfied: charset-normalizer<4,>=2 in /usr/local/lib/python3.11/dist-packages (from requests<3,>=2.0.0->wandb) (3.4.1)\n",
            "Requirement already satisfied: idna<4,>=2.5 in /usr/local/lib/python3.11/dist-packages (from requests<3,>=2.0.0->wandb) (3.10)\n",
            "Requirement already satisfied: urllib3<3,>=1.21.1 in /usr/local/lib/python3.11/dist-packages (from requests<3,>=2.0.0->wandb) (2.3.0)\n",
            "Requirement already satisfied: certifi>=2017.4.17 in /usr/local/lib/python3.11/dist-packages (from requests<3,>=2.0.0->wandb) (2024.12.14)\n",
            "Requirement already satisfied: smmap<6,>=3.0.1 in /usr/local/lib/python3.11/dist-packages (from gitdb<5,>=4.0.1->gitpython!=3.1.29,>=1.0.0->wandb) (5.0.2)\n"
          ]
        }
      ],
      "source": [
        "%pip install wandb\n",
        "\n",
        "import pandas as pd\n",
        "import seaborn as sns\n",
        "import matplotlib.pyplot as plt\n",
        "from sklearn.model_selection import train_test_split  # For splitting the dataset\n",
        "from sklearn.ensemble import RandomForestRegressor  # For the Random Forest regression model\n",
        "import shap\n",
        "import numpy as np\n",
        "from sklearn.ensemble import IsolationForest\n",
        "from sklearn.model_selection import train_test_split\n",
        "from sklearn.inspection import permutation_importance\n",
        "from sklearn.metrics import mean_squared_log_error\n",
        "from sklearn.metrics import mean_squared_error\n",
        "import os\n",
        "import wandb\n",
        "\n",
        "pd.set_option('display.expand_frame_repr', False)\n"
      ]
    },
    {
      "cell_type": "code",
      "execution_count": 7,
      "metadata": {
        "id": "-2nKvfNGzDz2"
      },
      "outputs": [],
      "source": [
        "def save_dataframe(df,file_name):\n",
        "  from google.colab import drive\n",
        "  drive.mount('/content/drive')\n",
        "  file_path = \"/content/drive/My Drive/\"+file_name+\".csv\"\n",
        "  df.to_csv(file_path, index=False)\n",
        "  print(f\"File saved successfully at: {file_path}\")\n",
        "\n",
        "def load_dataframe_from_drive(file_name='Train'):\n",
        "    \"\"\"\n",
        "    Function to load a DataFrame from a Google Drive file path.\n",
        "    \"\"\"\n",
        "    from google.colab import drive\n",
        "    drive.mount('/content/drive')\n",
        "\n",
        "    # Load the file from Google Drive\n",
        "    file_path = \"/content/drive/My Drive/\"+file_name+\".csv\"  # Replace with the saved file path\n",
        "    df = pd.read_csv(file_path)\n",
        "    return df\n",
        "\n",
        "def save_model(model,model_name):\n",
        "  from google.colab import drive\n",
        "  drive.mount('/content/drive')\n",
        "\n",
        "  import joblib\n",
        "\n",
        "  # Assuming 'rf_model' is your trained RandomForestRegressor\n",
        "  model_path = '/content/drive/My Drive/'+model_name+'.pkl'\n",
        "  joblib.dump(model, model_path)\n",
        "\n",
        "  print(f\"Model saved at {model_path}\")\n",
        "\n",
        "def load_model(model_name):\n",
        "  import joblib\n",
        "\n",
        "  model = joblib.load('/content/drive/My Drive/'+model_name+'.pkl')\n",
        "  print(\"Model loaded successfully!\")\n",
        "  return model\n",
        "\n",
        "def RMSLE(y_test, y_pred):\n",
        "    '''\n",
        "    RSMLE approximates the percent change\n",
        "    '''\n",
        "    return np.sqrt(np.mean((np.log(y_pred) - np.log(y_test))**2))\n",
        "\n",
        "def RMSE(y_, y_pred_):\n",
        "    '''\n",
        "    RSME\n",
        "    '''\n",
        "    return ((y_ - y_pred_) ** 2).mean() ** 0.5\n",
        "\n",
        "def train_model(df,column_to_predict,test_size_value=0.3,random_state_value=42):\n",
        "    '''\n",
        "    Function to train a Random Forest regression model on a given DataFrame.\n",
        "    '''\n",
        "    print(\"train_model START\")\n",
        "\n",
        "    !wandb login --relogin\n",
        "\n",
        "    # Initialize a new W&B run\n",
        "    wandb.init(\n",
        "        project=\"Predict-heavy-machinery-price\"\n",
        "    )\n",
        "\n",
        "    X = df.drop(columns=[column_to_predict])\n",
        "    y = df[column_to_predict]\n",
        "    X_train, X_test, y_train, y_test = train_test_split(X, y, test_size=test_size_value, random_state=random_state_value)\n",
        "    model = RandomForestRegressor()\n",
        "    model.fit(X_train, y_train)\n",
        "\n",
        "\n",
        "    y_train_pred = model.predict(X_train)\n",
        "    y_test_pred = model.predict(X_test)\n",
        "\n",
        "    mse = mean_squared_error(y_test, y_test_pred)\n",
        "\n",
        "    wandb.log({\"mean_squared_error\": mse})\n",
        "    wandb.log({\"Train RMSE\": RMSE(y_train, y_train_pred)})\n",
        "    wandb.log({\"Test RMSE\": RMSE(y_test, y_test_pred)})\n",
        "\n",
        "    # Optional: Log feature importances\n",
        "    importances = model.feature_importances_\n",
        "\n",
        "    # Create a zip of feature names and feature importances\n",
        "    feature_zip = zip(model.feature_names_in_, model.feature_importances_)\n",
        "\n",
        "    # Sort the zip by feature importance in descending order\n",
        "    sorted_feature_zip = sorted(feature_zip, key=lambda x: x[1], reverse=True)\n",
        "\n",
        "    # Print the sorted feature names, importances, and index\n",
        "    for idx, (feat, importance) in enumerate(sorted_feature_zip, 1):\n",
        "        wandb.log({f\"feature_{idx}_{feat}_importance\" : importance})\n",
        "\n",
        "    # Finish the run\n",
        "    wandb.finish()\n",
        "\n",
        "    print(\"RMSE Baseline accuracy:\", y_test.std())\n",
        "    print(\"Train RMSE:\", RMSE(y_train, y_train_pred))\n",
        "    print(\"Test RMSE:\", RMSE(y_test, y_test_pred))\n",
        "\n",
        "    print(\"train_model END\")\n",
        "\n",
        "    return model,(X_train, X_test, y_train, y_test)\n",
        "\n",
        "\n",
        "\n",
        "def generate_X_Y_params(df,column_to_predict,test_size_value=0.3,random_state_value=42):\n",
        "    X = df.drop(columns=[column_to_predict])\n",
        "    y = df[column_to_predict]\n",
        "    X_train, X_test, y_train, y_test = train_test_split(X, y, test_size=test_size_value, random_state=random_state_value)\n",
        "    return X_train, X_test, y_train, y_test\n",
        "\n",
        "def list_unique_values(df, column_name):\n",
        "    \"\"\"\n",
        "    Function to list all unique values in a given column of a DataFrame.\n",
        "\n",
        "    Parameters:\n",
        "    - df: pandas DataFrame\n",
        "    - column_name: Name of the column to find unique values\n",
        "\n",
        "    Returns:\n",
        "    - A list of unique values in the specified column.\n",
        "    \"\"\"\n",
        "    if column_name not in df.columns:\n",
        "        raise ValueError(f\"Column '{column_name}' does not exist in the DataFrame.\")\n",
        "\n",
        "    unique_values = df[column_name].unique()\n",
        "    return unique_values\n",
        "\n",
        "\n",
        "# Function to calculate YearMade based on ModelID\n",
        "def calc_YearMade(df, model_id):\n",
        "    valid_years = df.loc[(df['ModelID'] == model_id) & (df['YearMade'] > 1000), 'YearMade']\n",
        "    return int(valid_years.mean()) if not valid_years.empty else 1000  # Default if no valid years exist\n",
        "\n",
        "def update_YearMade(df):\n",
        "  print(\"update_YearMade START\")\n",
        "  # Update YearMade where it is 1000\n",
        "  df.loc[df['YearMade'] == 1000, 'YearMade'] = df.loc[df['YearMade'] == 1000, 'ModelID'].apply(lambda model_id: calc_YearMade(df, model_id))\n",
        "  # Compute the mean excluding rows where YearMade == 1000\n",
        "  mean_yearmade = df.loc[df['YearMade'] != 1000, 'YearMade'].mean()\n",
        "\n",
        "  # Update all rows where YearMade == 1000 with the calculated mean\n",
        "  df.loc[df['YearMade'] == 1000, 'YearMade'] = int(round(mean_yearmade))\n",
        "\n",
        "  print(\"update_YearMade END\")\n",
        "\n",
        "  return df\n",
        "\n",
        "def update_NaN_To_None_or_Unspecified(df):\n",
        "    \"\"\"\n",
        "    Updates NaN values to 'None or Unspecified' in columns where the value\n",
        "    'None or Unspecified' is already present.\n",
        "    \"\"\"\n",
        "    print(\"update_NaN_To_None_or_Unspecified START\")\n",
        "\n",
        "    update_to = 'None or Unspecified'\n",
        "\n",
        "    for col in df.columns:\n",
        "        unique_values = list_unique_values(df, col)  # Get unique values for the column\n",
        "\n",
        "        # Check if 'None or Unspecified' exists and if there are NaN values\n",
        "        if update_to in unique_values and pd.isnull(unique_values).any():\n",
        "            df[col] = df[col].fillna(update_to)  # Fill NaN with the specified value\n",
        "\n",
        "    print(\"update_NaN_To_None_or_Unspecified END\")\n",
        "\n",
        "    return df\n",
        "\n",
        "def update_auctioneerID(df):\n",
        "  print(\"update_auctioneerID START\")\n",
        "\n",
        "  # Assuming 'df' is your DataFrame\n",
        "  # Fill null values in the 'auctioneerID' column with 100.0\n",
        "  if 'auctioneerID' in df.columns:\n",
        "      df['auctioneerID'] = df['auctioneerID'].fillna(100.0)\n",
        "      #print(\"'auctioneerID' null values filled with 100.0 successfully!\")\n",
        "  #else:\n",
        "  #    print(\"Column 'auctioneerID' does not exist in the DataFrame.\")\n",
        "  print(\"update_auctioneerID END\")\n",
        "\n",
        "  return df\n",
        "\n",
        "\n",
        "def convert_date_columns(df, date_column):\n",
        "    \"\"\"\n",
        "    Convert date column into multiple numeric features like year, month, day, etc.\n",
        "    Handles potential issues like missing date_column or invalid data.\n",
        "    \"\"\"\n",
        "    print(\"convert_date_columns START\")\n",
        "\n",
        "    # Ensure the date_column exists in the DataFrame\n",
        "    if date_column not in df.columns:\n",
        "        raise KeyError(f\"Column '{date_column}' does not exist in the DataFrame.\")\n",
        "\n",
        "    # Convert the column to datetime\n",
        "    df[date_column] = pd.to_datetime(df[date_column], errors='coerce')  # Handle invalid date strings\n",
        "\n",
        "    # Check if any date values are invalid after conversion\n",
        "    if df[date_column].isnull().all():\n",
        "        raise ValueError(f\"All values in '{date_column}' could not be converted to datetime.\")\n",
        "\n",
        "    # Extract date features\n",
        "    df['year'] = df[date_column].dt.year\n",
        "    df['month'] = df[date_column].dt.month\n",
        "    df['day'] = df[date_column].dt.day\n",
        "    df['day_of_week'] = df[date_column].dt.dayofweek\n",
        "    df['is_weekend'] = df['day_of_week'] >= 5  # Saturday=5, Sunday=6\n",
        "\n",
        "    # Drop the original date column\n",
        "    df = df.drop(columns=[date_column])\n",
        "\n",
        "    print(\"convert_date_columns END\")\n",
        "\n",
        "    return df\n",
        "\n",
        "def update_MachineHoursCurrentMeter(df):\n",
        "  print(\"update_MachineHoursCurrentMeter START\")\n",
        "\n",
        "  # Update the 'MachineHoursCurrentMeter' column: replace NaN or 0 with 0\n",
        "  column_name = 'MachineHoursCurrentMeter'\n",
        "\n",
        "  # Check if the column exists\n",
        "  if column_name in df.columns:\n",
        "      df[column_name] = df[column_name].fillna(0)  # Replace NaN with 0\n",
        "      df[column_name] = df[column_name].replace(0, 0)  # Ensure 0 stays 0\n",
        "      #print(f\"Updated '{column_name}' column successfully!\")\n",
        "  #else:\n",
        "      #print(f\"Column '{column_name}' does not exist in the DataFrame.\")\n",
        "\n",
        "  print(\"update_MachineHoursCurrentMeter END\")\n",
        "\n",
        "  return df\n",
        "\n",
        "def encode_and_impute(df):\n",
        "    '''\n",
        "    Function to convert categorical columns into category codes\n",
        "    and impute missing values in numerical columns.\n",
        "    '''\n",
        "    print(\"Data Preprocessing START\")\n",
        "\n",
        "    # Handling categorical variables\n",
        "    for col in df.select_dtypes(['object']):\n",
        "        df[col] = df[col].fillna(\"Unknown\").astype('category')\n",
        "\n",
        "    for col in df.select_dtypes(['category']):\n",
        "        df[col] = df[col].cat.codes  # Convert categories to numerical codes\n",
        "\n",
        "    # Handling numerical missing values\n",
        "    for col in df.select_dtypes(['number']):\n",
        "        df[col] = df[col].fillna(df[col].median())  # Fill NaNs with median\n",
        "\n",
        "    print(\"Data Preprocessing END\")\n",
        "    return df\n",
        "\n",
        "def update_col_NaN(df,column_name,update_to):\n",
        "   df[column_name]=df[column_name].fillna(update_to)\n",
        "   return df\n",
        "\n",
        "def prepare_dataframe(df_pre:pd.DataFrame):\n",
        "  '''04/02/2025 Start'''\n",
        "  df_pre=update_YearMade(df_pre)\n",
        "  print()\n",
        "  df_pre=update_NaN_To_None_or_Unspecified(df_pre)\n",
        "  print()\n",
        "\n",
        "  df_pre=update_MachineHoursCurrentMeter(df_pre)\n",
        "  print()\n",
        "\n",
        "  df_pre=update_auctioneerID(df_pre)\n",
        "  print()\n",
        "\n",
        "  #df_pre=update_Enclosure(df_pre)\n",
        "  #print()\n",
        "\n",
        "  df_pre=convert_date_columns(df_pre,'saledate')\n",
        "  print()\n",
        "\n",
        "  #df_pre=encode_all_categories(df_pre)\n",
        "  '''04/02/2025 End'''\n",
        "\n",
        "  '''Start changes 06-02-2025 0015'''\n",
        "\n",
        "  df_pre=update_col_NaN(df_pre,'ProductSize','None or Unspecified')\n",
        "  df_pre=update_col_NaN(df_pre,'Drive_System','No')\n",
        "  df_pre=update_col_NaN(df_pre,'Stick','None or Unspecified')\n",
        "  df_pre=update_col_NaN(df_pre,'Engine_Horsepower','No')\n",
        "  df_pre=update_col_NaN(df_pre,'Track_Type','None or Unspecified')\n",
        "  df_pre=update_col_NaN(df_pre,'Grouser_Type','None or Unspecified')\n",
        "  df_pre=update_col_NaN(df_pre,'Differential_Type','None or Unspecified')\n",
        "  df_pre=update_col_NaN(df_pre,'Steering_Controls','No')\n",
        "  '''End changes 06-02-2025 0015'''\n",
        "\n",
        "  '''Start changes 05-02-2025 1530'''\n",
        "\n",
        "  df_pre=encode_and_impute(df_pre)\n",
        "  '''End changes 05-02-2025 1530'''\n",
        "\n",
        "  return df_pre\n",
        "\n",
        "def run_test(model):\n",
        "  file_path = \"/content/drive/My Drive/Valid.csv\"  # Replace with the saved file path\n",
        "  df_valid = pd.read_csv(file_path)\n",
        "  df_valid['SalePrice']=None\n",
        "  df_valid=prepare_dataframe(df_valid)\n",
        "  X = df_valid.drop(columns=['SalePrice'])\n",
        "  y = df_valid['SalePrice']\n",
        "  y = model.predict(X)\n",
        "\n",
        "  df_valid.loc[X.index, 'SalePrice'] = y\n",
        "\n",
        "  file_path = \"/content/drive/My Drive/output.csv\"  # Save to Google Drive root\n",
        "  df_valid[['SalesID', 'SalePrice']].to_csv(file_path, index=False)\n",
        "\n",
        "  print(f\"File saved successfully at: {file_path}\")\n",
        "\n",
        "def run_train():\n",
        "  pd.set_option('display.expand_frame_repr', False)\n",
        "\n",
        "  df=load_dataframe_from_drive()\n",
        "  #df = df.sample(n=10000, random_state=42)\n",
        "  df=prepare_dataframe(df)\n",
        "  model,xs=train_model(df=df,column_to_predict='SalePrice')\n",
        "  #save_dataframe(df,'04022025_df')\n",
        "  #save_model(model,'04022025_model')\n",
        "  #save_dataframe(df,'05022025_df')\n",
        "  #save_model(model,'05022025_model')\n",
        "  #save_dataframe(df,'06022025_df')\n",
        "  #save_model(model,'06022025_model')\n",
        "\n",
        "  '''\n",
        "  df=load_dataframe_from_drive('04022025_df')\n",
        "  model=load_model('04022025_model')\n",
        "  xs=generate_X_Y_params(df,'SalePrice')\n",
        "  '''\n",
        "  return model,xs\n"
      ]
    },
    {
      "cell_type": "markdown",
      "metadata": {
        "id": "rhixEKWOyx_k"
      },
      "source": [
        "**RUN CELL**"
      ]
    },
    {
      "cell_type": "code",
      "execution_count": 8,
      "metadata": {
        "colab": {
          "base_uri": "https://localhost:8080/",
          "height": 1000
        },
        "id": "6DE-fzHuyulv",
        "outputId": "26b63d3f-b53d-43e0-8627-3a46c862bee1"
      },
      "outputs": [
        {
          "output_type": "stream",
          "name": "stdout",
          "text": [
            "Starting.....\n",
            "Drive already mounted at /content/drive; to attempt to forcibly remount, call drive.mount(\"/content/drive\", force_remount=True).\n"
          ]
        },
        {
          "output_type": "stream",
          "name": "stderr",
          "text": [
            "<ipython-input-7-34717493d82e>:17: DtypeWarning: Columns (13,39,40,41) have mixed types. Specify dtype option on import or set low_memory=False.\n",
            "  df = pd.read_csv(file_path)\n"
          ]
        },
        {
          "output_type": "stream",
          "name": "stdout",
          "text": [
            "update_YearMade START\n",
            "update_YearMade END\n",
            "\n",
            "update_NaN_To_None_or_Unspecified START\n",
            "update_NaN_To_None_or_Unspecified END\n",
            "\n",
            "\n",
            "update_auctioneerID START\n",
            "update_auctioneerID END\n",
            "\n",
            "convert_date_columns START\n",
            "convert_date_columns END\n",
            "\n",
            "Data Preprocessing START\n",
            "Data Preprocessing END\n",
            "train_model START\n",
            "\u001b[34m\u001b[1mwandb\u001b[0m: Logging into wandb.ai. (Learn how to deploy a W&B server locally: https://wandb.me/wandb-server)\n",
            "\u001b[34m\u001b[1mwandb\u001b[0m: You can find your API key in your browser here: https://wandb.ai/authorize\n",
            "\u001b[34m\u001b[1mwandb\u001b[0m: Paste an API key from your profile and hit enter, or press ctrl+c to quit: \n",
            "\u001b[34m\u001b[1mwandb\u001b[0m: Appending key for api.wandb.ai to your netrc file: /root/.netrc\n",
            "\u001b[34m\u001b[1mwandb\u001b[0m: W&B API key is configured. Use \u001b[1m`wandb login --relogin`\u001b[0m to force relogin\n"
          ]
        },
        {
          "output_type": "display_data",
          "data": {
            "text/plain": [
              "<IPython.core.display.HTML object>"
            ],
            "text/html": [
              "Tracking run with wandb version 0.19.5"
            ]
          },
          "metadata": {}
        },
        {
          "output_type": "display_data",
          "data": {
            "text/plain": [
              "<IPython.core.display.HTML object>"
            ],
            "text/html": [
              "Run data is saved locally in <code>/content/wandb/run-20250205_222614-4jg03iez</code>"
            ]
          },
          "metadata": {}
        },
        {
          "output_type": "display_data",
          "data": {
            "text/plain": [
              "<IPython.core.display.HTML object>"
            ],
            "text/html": [
              "Syncing run <strong><a href='https://wandb.ai/sorels-sorel/Predict-heavy-machinery-price/runs/4jg03iez' target=\"_blank\">bumbling-salad-7</a></strong> to <a href='https://wandb.ai/sorels-sorel/Predict-heavy-machinery-price' target=\"_blank\">Weights & Biases</a> (<a href='https://wandb.me/developer-guide' target=\"_blank\">docs</a>)<br>"
            ]
          },
          "metadata": {}
        },
        {
          "output_type": "display_data",
          "data": {
            "text/plain": [
              "<IPython.core.display.HTML object>"
            ],
            "text/html": [
              " View project at <a href='https://wandb.ai/sorels-sorel/Predict-heavy-machinery-price' target=\"_blank\">https://wandb.ai/sorels-sorel/Predict-heavy-machinery-price</a>"
            ]
          },
          "metadata": {}
        },
        {
          "output_type": "display_data",
          "data": {
            "text/plain": [
              "<IPython.core.display.HTML object>"
            ],
            "text/html": [
              " View run at <a href='https://wandb.ai/sorels-sorel/Predict-heavy-machinery-price/runs/4jg03iez' target=\"_blank\">https://wandb.ai/sorels-sorel/Predict-heavy-machinery-price/runs/4jg03iez</a>"
            ]
          },
          "metadata": {}
        },
        {
          "output_type": "display_data",
          "data": {
            "text/plain": [
              "<IPython.core.display.HTML object>"
            ],
            "text/html": []
          },
          "metadata": {}
        },
        {
          "output_type": "display_data",
          "data": {
            "text/plain": [
              "<IPython.core.display.HTML object>"
            ],
            "text/html": [
              "<br>    <style><br>        .wandb-row {<br>            display: flex;<br>            flex-direction: row;<br>            flex-wrap: wrap;<br>            justify-content: flex-start;<br>            width: 100%;<br>        }<br>        .wandb-col {<br>            display: flex;<br>            flex-direction: column;<br>            flex-basis: 100%;<br>            flex: 1;<br>            padding: 10px;<br>        }<br>    </style><br><div class=\"wandb-row\"><div class=\"wandb-col\"><h3>Run history:</h3><br/><table class=\"wandb\"><tr><td>Test RMSE</td><td>▁</td></tr><tr><td>Train RMSE</td><td>▁</td></tr><tr><td>feature_10_MachineID_importance</td><td>▁</td></tr><tr><td>feature_11_fiSecondaryDesc_importance</td><td>▁</td></tr><tr><td>feature_12_month_importance</td><td>▁</td></tr><tr><td>feature_13_Enclosure_importance</td><td>▁</td></tr><tr><td>feature_14_day_importance</td><td>▁</td></tr><tr><td>feature_15_state_importance</td><td>▁</td></tr><tr><td>feature_16_fiModelDescriptor_importance</td><td>▁</td></tr><tr><td>feature_17_day_of_week_importance</td><td>▁</td></tr><tr><td>feature_18_auctioneerID_importance</td><td>▁</td></tr><tr><td>feature_19_Ripper_importance</td><td>▁</td></tr><tr><td>feature_1_ProductSize_importance</td><td>▁</td></tr><tr><td>feature_20_MachineHoursCurrentMeter_importance</td><td>▁</td></tr><tr><td>feature_21_fiModelSeries_importance</td><td>▁</td></tr><tr><td>feature_22_Blade_Type_importance</td><td>▁</td></tr><tr><td>feature_23_Tire_Size_importance</td><td>▁</td></tr><tr><td>feature_24_Hydraulics_importance</td><td>▁</td></tr><tr><td>feature_25_Travel_Controls_importance</td><td>▁</td></tr><tr><td>feature_26_Drive_System_importance</td><td>▁</td></tr><tr><td>feature_27_Stick_Length_importance</td><td>▁</td></tr><tr><td>feature_28_Transmission_importance</td><td>▁</td></tr><tr><td>feature_29_UsageBand_importance</td><td>▁</td></tr><tr><td>feature_2_YearMade_importance</td><td>▁</td></tr><tr><td>feature_30_Coupler_importance</td><td>▁</td></tr><tr><td>feature_31_Blade_Width_importance</td><td>▁</td></tr><tr><td>feature_32_Undercarriage_Pad_Width_importance</td><td>▁</td></tr><tr><td>feature_33_Grouser_Type_importance</td><td>▁</td></tr><tr><td>feature_34_Thumb_importance</td><td>▁</td></tr><tr><td>feature_35_ProductGroup_importance</td><td>▁</td></tr><tr><td>feature_36_ProductGroupDesc_importance</td><td>▁</td></tr><tr><td>feature_37_datasource_importance</td><td>▁</td></tr><tr><td>feature_38_Ride_Control_importance</td><td>▁</td></tr><tr><td>feature_39_Track_Type_importance</td><td>▁</td></tr><tr><td>feature_3_ModelID_importance</td><td>▁</td></tr><tr><td>feature_40_is_weekend_importance</td><td>▁</td></tr><tr><td>feature_41_Forks_importance</td><td>▁</td></tr><tr><td>feature_42_Differential_Type_importance</td><td>▁</td></tr><tr><td>feature_43_Steering_Controls_importance</td><td>▁</td></tr><tr><td>feature_44_Scarifier_importance</td><td>▁</td></tr><tr><td>feature_45_Pushblock_importance</td><td>▁</td></tr><tr><td>feature_46_Stick_importance</td><td>▁</td></tr><tr><td>feature_47_Tip_Control_importance</td><td>▁</td></tr><tr><td>feature_48_Pattern_Changer_importance</td><td>▁</td></tr><tr><td>feature_49_Enclosure_Type_importance</td><td>▁</td></tr><tr><td>feature_4_fiBaseModel_importance</td><td>▁</td></tr><tr><td>feature_50_Blade_Extension_importance</td><td>▁</td></tr><tr><td>feature_51_Engine_Horsepower_importance</td><td>▁</td></tr><tr><td>feature_52_Pad_Type_importance</td><td>▁</td></tr><tr><td>feature_53_Turbocharged_importance</td><td>▁</td></tr><tr><td>feature_54_Grouser_Tracks_importance</td><td>▁</td></tr><tr><td>feature_55_Coupler_System_importance</td><td>▁</td></tr><tr><td>feature_56_Backhoe_Mounting_importance</td><td>▁</td></tr><tr><td>feature_5_year_importance</td><td>▁</td></tr><tr><td>feature_6_SalesID_importance</td><td>▁</td></tr><tr><td>feature_7_fiProductClassDesc_importance</td><td>▁</td></tr><tr><td>feature_8_Hydraulics_Flow_importance</td><td>▁</td></tr><tr><td>feature_9_fiModelDesc_importance</td><td>▁</td></tr><tr><td>mean_squared_error</td><td>▁</td></tr></table><br/></div><div class=\"wandb-col\"><h3>Run summary:</h3><br/><table class=\"wandb\"><tr><td>Test RMSE</td><td>7110.66902</td></tr><tr><td>Train RMSE</td><td>2664.63421</td></tr><tr><td>feature_10_MachineID_importance</td><td>0.01769</td></tr><tr><td>feature_11_fiSecondaryDesc_importance</td><td>0.01621</td></tr><tr><td>feature_12_month_importance</td><td>0.01156</td></tr><tr><td>feature_13_Enclosure_importance</td><td>0.01119</td></tr><tr><td>feature_14_day_importance</td><td>0.0102</td></tr><tr><td>feature_15_state_importance</td><td>0.00966</td></tr><tr><td>feature_16_fiModelDescriptor_importance</td><td>0.00571</td></tr><tr><td>feature_17_day_of_week_importance</td><td>0.00489</td></tr><tr><td>feature_18_auctioneerID_importance</td><td>0.00484</td></tr><tr><td>feature_19_Ripper_importance</td><td>0.0036</td></tr><tr><td>feature_1_ProductSize_importance</td><td>0.23743</td></tr><tr><td>feature_20_MachineHoursCurrentMeter_importance</td><td>0.00349</td></tr><tr><td>feature_21_fiModelSeries_importance</td><td>0.00338</td></tr><tr><td>feature_22_Blade_Type_importance</td><td>0.00232</td></tr><tr><td>feature_23_Tire_Size_importance</td><td>0.00177</td></tr><tr><td>feature_24_Hydraulics_importance</td><td>0.00174</td></tr><tr><td>feature_25_Travel_Controls_importance</td><td>0.00164</td></tr><tr><td>feature_26_Drive_System_importance</td><td>0.00147</td></tr><tr><td>feature_27_Stick_Length_importance</td><td>0.00128</td></tr><tr><td>feature_28_Transmission_importance</td><td>0.00119</td></tr><tr><td>feature_29_UsageBand_importance</td><td>0.00118</td></tr><tr><td>feature_2_YearMade_importance</td><td>0.22447</td></tr><tr><td>feature_30_Coupler_importance</td><td>0.00092</td></tr><tr><td>feature_31_Blade_Width_importance</td><td>0.00085</td></tr><tr><td>feature_32_Undercarriage_Pad_Width_importance</td><td>0.00085</td></tr><tr><td>feature_33_Grouser_Type_importance</td><td>0.00079</td></tr><tr><td>feature_34_Thumb_importance</td><td>0.00066</td></tr><tr><td>feature_35_ProductGroup_importance</td><td>0.00062</td></tr><tr><td>feature_36_ProductGroupDesc_importance</td><td>0.00059</td></tr><tr><td>feature_37_datasource_importance</td><td>0.00059</td></tr><tr><td>feature_38_Ride_Control_importance</td><td>0.0005</td></tr><tr><td>feature_39_Track_Type_importance</td><td>0.00048</td></tr><tr><td>feature_3_ModelID_importance</td><td>0.0835</td></tr><tr><td>feature_40_is_weekend_importance</td><td>0.00045</td></tr><tr><td>feature_41_Forks_importance</td><td>0.00036</td></tr><tr><td>feature_42_Differential_Type_importance</td><td>0.00028</td></tr><tr><td>feature_43_Steering_Controls_importance</td><td>0.00025</td></tr><tr><td>feature_44_Scarifier_importance</td><td>0.00021</td></tr><tr><td>feature_45_Pushblock_importance</td><td>0.0002</td></tr><tr><td>feature_46_Stick_importance</td><td>0.0002</td></tr><tr><td>feature_47_Tip_Control_importance</td><td>0.00019</td></tr><tr><td>feature_48_Pattern_Changer_importance</td><td>0.00018</td></tr><tr><td>feature_49_Enclosure_Type_importance</td><td>0.00012</td></tr><tr><td>feature_4_fiBaseModel_importance</td><td>0.08213</td></tr><tr><td>feature_50_Blade_Extension_importance</td><td>4e-05</td></tr><tr><td>feature_51_Engine_Horsepower_importance</td><td>4e-05</td></tr><tr><td>feature_52_Pad_Type_importance</td><td>3e-05</td></tr><tr><td>feature_53_Turbocharged_importance</td><td>2e-05</td></tr><tr><td>feature_54_Grouser_Tracks_importance</td><td>1e-05</td></tr><tr><td>feature_55_Coupler_System_importance</td><td>0.0</td></tr><tr><td>feature_56_Backhoe_Mounting_importance</td><td>0.0</td></tr><tr><td>feature_5_year_importance</td><td>0.07588</td></tr><tr><td>feature_6_SalesID_importance</td><td>0.0631</td></tr><tr><td>feature_7_fiProductClassDesc_importance</td><td>0.05998</td></tr><tr><td>feature_8_Hydraulics_Flow_importance</td><td>0.03055</td></tr><tr><td>feature_9_fiModelDesc_importance</td><td>0.01849</td></tr><tr><td>mean_squared_error</td><td>50561613.9236</td></tr></table><br/></div></div>"
            ]
          },
          "metadata": {}
        },
        {
          "output_type": "display_data",
          "data": {
            "text/plain": [
              "<IPython.core.display.HTML object>"
            ],
            "text/html": [
              " View run <strong style=\"color:#cdcd00\">bumbling-salad-7</strong> at: <a href='https://wandb.ai/sorels-sorel/Predict-heavy-machinery-price/runs/4jg03iez' target=\"_blank\">https://wandb.ai/sorels-sorel/Predict-heavy-machinery-price/runs/4jg03iez</a><br> View project at: <a href='https://wandb.ai/sorels-sorel/Predict-heavy-machinery-price' target=\"_blank\">https://wandb.ai/sorels-sorel/Predict-heavy-machinery-price</a><br>Synced 5 W&B file(s), 0 media file(s), 0 artifact file(s) and 0 other file(s)"
            ]
          },
          "metadata": {}
        },
        {
          "output_type": "display_data",
          "data": {
            "text/plain": [
              "<IPython.core.display.HTML object>"
            ],
            "text/html": [
              "Find logs at: <code>./wandb/run-20250205_222614-4jg03iez/logs</code>"
            ]
          },
          "metadata": {}
        },
        {
          "output_type": "stream",
          "name": "stdout",
          "text": [
            "RMSE Baseline accuracy: 22932.4005340408\n",
            "Train RMSE: 2664.634213083226\n",
            "Test RMSE: 7110.6690208164155\n",
            "train_model END\n",
            "Drive already mounted at /content/drive; to attempt to forcibly remount, call drive.mount(\"/content/drive\", force_remount=True).\n",
            "File saved successfully at: /content/drive/My Drive/06022025_df.csv\n",
            "Drive already mounted at /content/drive; to attempt to forcibly remount, call drive.mount(\"/content/drive\", force_remount=True).\n",
            "Model saved at /content/drive/My Drive/06022025_model.pkl\n",
            "Testing...\n",
            "update_YearMade START\n",
            "update_YearMade END\n",
            "\n",
            "update_NaN_To_None_or_Unspecified START\n",
            "update_NaN_To_None_or_Unspecified END\n",
            "\n",
            "\n",
            "update_auctioneerID START\n",
            "update_auctioneerID END\n",
            "\n",
            "convert_date_columns START\n",
            "convert_date_columns END\n",
            "\n",
            "Data Preprocessing START\n",
            "Data Preprocessing END\n",
            "File saved successfully at: /content/drive/My Drive/output.csv\n"
          ]
        },
        {
          "output_type": "stream",
          "name": "stderr",
          "text": [
            "<ipython-input-7-34717493d82e>:334: FutureWarning: Setting an item of incompatible dtype is deprecated and will raise an error in a future version of pandas. Value '[51585.  75615.  40252.5 ... 13100.  13927.5 19067.5]' has dtype incompatible with int8, please explicitly cast to a compatible dtype first.\n",
            "  df_valid.loc[X.index, 'SalePrice'] = y\n"
          ]
        }
      ],
      "source": [
        "print('Starting.....')\n",
        "model,xs=run_train()\n",
        "print('Testing...')\n",
        "run_test(model)\n"
      ]
    }
  ],
  "metadata": {
    "colab": {
      "provenance": []
    },
    "kernelspec": {
      "display_name": "Python 3",
      "name": "python3"
    },
    "language_info": {
      "name": "python"
    }
  },
  "nbformat": 4,
  "nbformat_minor": 0
}